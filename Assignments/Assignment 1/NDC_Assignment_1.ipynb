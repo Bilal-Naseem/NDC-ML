{
 "cells": [
  {
   "cell_type": "markdown",
   "metadata": {
    "id": "1LyGnGNqie4j"
   },
   "source": [
    "## Nano Degree Club Assignment 1\n",
    "### Author: Muhammad Bilal\n",
    "### Submitted to: Sir Umair Baig \n"
   ]
  },
  {
   "cell_type": "code",
   "execution_count": 1,
   "metadata": {
    "id": "BHO8ye7eid8b"
   },
   "outputs": [],
   "source": [
    "# Loading libraries\n",
    "import numpy as np\n",
    "import pandas as pd\n",
    "\n",
    "# Loading data into dataframe from csv\n",
    "sma_data = pd.read_csv(\"/content/Standard_Metropolitan_Areas_Data.csv\")"
   ]
  },
  {
   "cell_type": "markdown",
   "metadata": {
    "id": "02bDYhU_iU_N"
   },
   "source": [
    "1. sma_data is a pandas dataframe. What is the shape of the dataframe 'sma_data'?"
   ]
  },
  {
   "cell_type": "code",
   "execution_count": 2,
   "metadata": {
    "colab": {
     "base_uri": "https://localhost:8080/"
    },
    "id": "rv7_Qr93iLmX",
    "outputId": "10529f60-d068-4ac0-dc97-231b31b2ba38"
   },
   "outputs": [
    {
     "data": {
      "text/plain": [
       "(99, 10)"
      ]
     },
     "execution_count": 2,
     "metadata": {
      "tags": []
     },
     "output_type": "execute_result"
    }
   ],
   "source": [
    "sma_data.shape\n",
    "# Since the Shape is (99,10) we conclude that data set contains 99 rows and 10 columns"
   ]
  },
  {
   "cell_type": "markdown",
   "metadata": {
    "id": "ndhazpaSjP_1"
   },
   "source": [
    "2. How many entries are there in the dataframe sma_data?"
   ]
  },
  {
   "cell_type": "code",
   "execution_count": 3,
   "metadata": {
    "colab": {
     "base_uri": "https://localhost:8080/"
    },
    "id": "GPOBVm-Ci5sz",
    "outputId": "78b5eae7-dc11-4529-d9c7-b3a07e7a21e0"
   },
   "outputs": [
    {
     "data": {
      "text/plain": [
       "99"
      ]
     },
     "execution_count": 3,
     "metadata": {
      "tags": []
     },
     "output_type": "execute_result"
    }
   ],
   "source": [
    "len(sma_data)"
   ]
  },
  {
   "cell_type": "markdown",
   "metadata": {
    "id": "h4eFc3KKjgeE"
   },
   "source": [
    "3. Which method will help you display the last five observations from the dataframe?"
   ]
  },
  {
   "cell_type": "code",
   "execution_count": 4,
   "metadata": {
    "colab": {
     "base_uri": "https://localhost:8080/",
     "height": 206
    },
    "id": "iXxzqdeAjZPs",
    "outputId": "b130c9cf-59cd-458a-b3f3-ceed3c29d6db"
   },
   "outputs": [
    {
     "data": {
      "text/html": [
       "<div>\n",
       "<style scoped>\n",
       "    .dataframe tbody tr th:only-of-type {\n",
       "        vertical-align: middle;\n",
       "    }\n",
       "\n",
       "    .dataframe tbody tr th {\n",
       "        vertical-align: top;\n",
       "    }\n",
       "\n",
       "    .dataframe thead th {\n",
       "        text-align: right;\n",
       "    }\n",
       "</style>\n",
       "<table border=\"1\" class=\"dataframe\">\n",
       "  <thead>\n",
       "    <tr style=\"text-align: right;\">\n",
       "      <th></th>\n",
       "      <th>land_area</th>\n",
       "      <th>percent_city</th>\n",
       "      <th>percent_senior</th>\n",
       "      <th>physicians</th>\n",
       "      <th>hospital_beds</th>\n",
       "      <th>graduates</th>\n",
       "      <th>work_force</th>\n",
       "      <th>income</th>\n",
       "      <th>region</th>\n",
       "      <th>crime_rate</th>\n",
       "    </tr>\n",
       "  </thead>\n",
       "  <tbody>\n",
       "    <tr>\n",
       "      <th>0</th>\n",
       "      <td>1384</td>\n",
       "      <td>78.1</td>\n",
       "      <td>12.3</td>\n",
       "      <td>25627</td>\n",
       "      <td>69678</td>\n",
       "      <td>50.1</td>\n",
       "      <td>4083.9</td>\n",
       "      <td>72100</td>\n",
       "      <td>1</td>\n",
       "      <td>75.55</td>\n",
       "    </tr>\n",
       "    <tr>\n",
       "      <th>1</th>\n",
       "      <td>3719</td>\n",
       "      <td>43.9</td>\n",
       "      <td>9.4</td>\n",
       "      <td>13326</td>\n",
       "      <td>43292</td>\n",
       "      <td>53.9</td>\n",
       "      <td>3305.9</td>\n",
       "      <td>54542</td>\n",
       "      <td>2</td>\n",
       "      <td>56.03</td>\n",
       "    </tr>\n",
       "    <tr>\n",
       "      <th>2</th>\n",
       "      <td>3553</td>\n",
       "      <td>37.4</td>\n",
       "      <td>10.7</td>\n",
       "      <td>9724</td>\n",
       "      <td>33731</td>\n",
       "      <td>50.6</td>\n",
       "      <td>2066.3</td>\n",
       "      <td>33216</td>\n",
       "      <td>1</td>\n",
       "      <td>41.32</td>\n",
       "    </tr>\n",
       "    <tr>\n",
       "      <th>3</th>\n",
       "      <td>3916</td>\n",
       "      <td>29.9</td>\n",
       "      <td>8.8</td>\n",
       "      <td>6402</td>\n",
       "      <td>24167</td>\n",
       "      <td>52.2</td>\n",
       "      <td>1966.7</td>\n",
       "      <td>32906</td>\n",
       "      <td>2</td>\n",
       "      <td>67.38</td>\n",
       "    </tr>\n",
       "    <tr>\n",
       "      <th>4</th>\n",
       "      <td>2480</td>\n",
       "      <td>31.5</td>\n",
       "      <td>10.5</td>\n",
       "      <td>8502</td>\n",
       "      <td>16751</td>\n",
       "      <td>66.1</td>\n",
       "      <td>1514.5</td>\n",
       "      <td>26573</td>\n",
       "      <td>4</td>\n",
       "      <td>80.19</td>\n",
       "    </tr>\n",
       "  </tbody>\n",
       "</table>\n",
       "</div>"
      ],
      "text/plain": [
       "   land_area  percent_city  percent_senior  ...  income  region  crime_rate\n",
       "0       1384          78.1            12.3  ...   72100       1       75.55\n",
       "1       3719          43.9             9.4  ...   54542       2       56.03\n",
       "2       3553          37.4            10.7  ...   33216       1       41.32\n",
       "3       3916          29.9             8.8  ...   32906       2       67.38\n",
       "4       2480          31.5            10.5  ...   26573       4       80.19\n",
       "\n",
       "[5 rows x 10 columns]"
      ]
     },
     "execution_count": 4,
     "metadata": {
      "tags": []
     },
     "output_type": "execute_result"
    }
   ],
   "source": [
    "sma_data.head()"
   ]
  },
  {
   "cell_type": "markdown",
   "metadata": {
    "id": "Q763x7h3jmhD"
   },
   "source": [
    "4. Select the correct statement about the data types of different columns."
   ]
  },
  {
   "cell_type": "markdown",
   "metadata": {
    "id": "8yHozlivkKat"
   },
   "source": [
    "> 1.   The Data Type of land_area is an integer\n",
    "> 2.   There are 5 columns whos datatype is float\n",
    "> 3.   There are 5 columns whos datatype is integer\n",
    "> 4.   All of the above **( Correct Option )**\n",
    "> 5.   None of the above"
   ]
  },
  {
   "cell_type": "code",
   "execution_count": 6,
   "metadata": {
    "colab": {
     "base_uri": "https://localhost:8080/"
    },
    "id": "RyVItgu7jo2T",
    "outputId": "41beb5d7-b7c4-452e-ffcc-0846cab21194"
   },
   "outputs": [
    {
     "data": {
      "text/plain": [
       "land_area           int64\n",
       "percent_city      float64\n",
       "percent_senior    float64\n",
       "physicians          int64\n",
       "hospital_beds       int64\n",
       "graduates         float64\n",
       "work_force        float64\n",
       "income              int64\n",
       "region              int64\n",
       "crime_rate        float64\n",
       "dtype: object"
      ]
     },
     "execution_count": 6,
     "metadata": {
      "tags": []
     },
     "output_type": "execute_result"
    }
   ],
   "source": [
    "sma_data.dtypes"
   ]
  },
  {
   "cell_type": "markdown",
   "metadata": {
    "id": "tn3zhSuUjpRC"
   },
   "source": [
    "5. Use the index-based selection technique to select the 10th observation from data frame sma_data. What is the crime_rate for this observation? \n",
    "[Remember indexing in Python starts with 0, so if you have to select nth observation you should get the observation present at index n-1]"
   ]
  },
  {
   "cell_type": "code",
   "execution_count": 15,
   "metadata": {
    "colab": {
     "base_uri": "https://localhost:8080/"
    },
    "id": "k6BGKu4Qjvll",
    "outputId": "7837f59d-493d-4937-ce96-16d4ea62c9ce"
   },
   "outputs": [
    {
     "name": "stdout",
     "output_type": "stream",
     "text": [
      "crime rate for 10th observation is : 55.3\n"
     ]
    }
   ],
   "source": [
    "print(f'crime rate for 10th observation is : { sma_data[\"crime_rate\"][9] }')"
   ]
  },
  {
   "cell_type": "markdown",
   "metadata": {
    "id": "BMv8gMvcjwTs"
   },
   "source": [
    "6. Select the physicians column. Get the last value from the physicians column."
   ]
  },
  {
   "cell_type": "code",
   "execution_count": 16,
   "metadata": {
    "colab": {
     "base_uri": "https://localhost:8080/"
    },
    "id": "9tK7Nf_Sj3N0",
    "outputId": "56294565-41b1-4096-922c-3da70cdb3cdc"
   },
   "outputs": [
    {
     "data": {
      "text/plain": [
       "98    140\n",
       "Name: physicians, dtype: int64"
      ]
     },
     "execution_count": 16,
     "metadata": {
      "tags": []
     },
     "output_type": "execute_result"
    }
   ],
   "source": [
    "sma_data['physicians'].tail(n=1)"
   ]
  },
  {
   "cell_type": "markdown",
   "metadata": {
    "id": "kI9XWC3Fj0IT"
   },
   "source": [
    "7. Select the records with index labels (numerical positions) - 1, 3, 5, 7, 9 and 13 and columns - 'land_area', 'work_force', 'income', 'region' and 'crime_rate'. Assign the result to a variable sample_data1. Select the correct statement about this sample_data1. [Hint: Use label-based selection technique]\n",
    "\n",
    "> 1. Crime Rates are less than 70 for all the observations in the dataframe sample_data1\n",
    "> 2. The Observation indexed at 13 has an income of 12591\n",
    "> 3. All of the above **( Correct Option )**\n",
    "> 4. None of the above "
   ]
  },
  {
   "cell_type": "code",
   "execution_count": 20,
   "metadata": {
    "colab": {
     "base_uri": "https://localhost:8080/",
     "height": 238
    },
    "id": "TYiu3QLoj384",
    "outputId": "e73393f8-109f-4aa6-9d6d-edcd932c1e31"
   },
   "outputs": [
    {
     "data": {
      "text/html": [
       "<div>\n",
       "<style scoped>\n",
       "    .dataframe tbody tr th:only-of-type {\n",
       "        vertical-align: middle;\n",
       "    }\n",
       "\n",
       "    .dataframe tbody tr th {\n",
       "        vertical-align: top;\n",
       "    }\n",
       "\n",
       "    .dataframe thead th {\n",
       "        text-align: right;\n",
       "    }\n",
       "</style>\n",
       "<table border=\"1\" class=\"dataframe\">\n",
       "  <thead>\n",
       "    <tr style=\"text-align: right;\">\n",
       "      <th></th>\n",
       "      <th>land_area</th>\n",
       "      <th>work_force</th>\n",
       "      <th>income</th>\n",
       "      <th>region</th>\n",
       "      <th>crime_rate</th>\n",
       "    </tr>\n",
       "  </thead>\n",
       "  <tbody>\n",
       "    <tr>\n",
       "      <th>1</th>\n",
       "      <td>3719</td>\n",
       "      <td>3305.9</td>\n",
       "      <td>54542</td>\n",
       "      <td>2</td>\n",
       "      <td>56.03</td>\n",
       "    </tr>\n",
       "    <tr>\n",
       "      <th>3</th>\n",
       "      <td>3916</td>\n",
       "      <td>1966.7</td>\n",
       "      <td>32906</td>\n",
       "      <td>2</td>\n",
       "      <td>67.38</td>\n",
       "    </tr>\n",
       "    <tr>\n",
       "      <th>5</th>\n",
       "      <td>2815</td>\n",
       "      <td>1541.9</td>\n",
       "      <td>25663</td>\n",
       "      <td>3</td>\n",
       "      <td>58.48</td>\n",
       "    </tr>\n",
       "    <tr>\n",
       "      <th>7</th>\n",
       "      <td>6794</td>\n",
       "      <td>1272.7</td>\n",
       "      <td>18221</td>\n",
       "      <td>3</td>\n",
       "      <td>64.88</td>\n",
       "    </tr>\n",
       "    <tr>\n",
       "      <th>9</th>\n",
       "      <td>4647</td>\n",
       "      <td>1032.2</td>\n",
       "      <td>14542</td>\n",
       "      <td>2</td>\n",
       "      <td>55.30</td>\n",
       "    </tr>\n",
       "    <tr>\n",
       "      <th>13</th>\n",
       "      <td>782</td>\n",
       "      <td>915.2</td>\n",
       "      <td>12591</td>\n",
       "      <td>4</td>\n",
       "      <td>63.20</td>\n",
       "    </tr>\n",
       "  </tbody>\n",
       "</table>\n",
       "</div>"
      ],
      "text/plain": [
       "    land_area  work_force  income  region  crime_rate\n",
       "1        3719      3305.9   54542       2       56.03\n",
       "3        3916      1966.7   32906       2       67.38\n",
       "5        2815      1541.9   25663       3       58.48\n",
       "7        6794      1272.7   18221       3       64.88\n",
       "9        4647      1032.2   14542       2       55.30\n",
       "13        782       915.2   12591       4       63.20"
      ]
     },
     "execution_count": 20,
     "metadata": {
      "tags": []
     },
     "output_type": "execute_result"
    }
   ],
   "source": [
    "sample_data1 = sma_data[['land_area', 'work_force', 'income', 'region', 'crime_rate']][1:14:2]\n",
    "sample_data1.drop(axis=1,index=11,inplace=True)\n",
    "sample_data1"
   ]
  },
  {
   "cell_type": "markdown",
   "metadata": {
    "id": "OZJ6UJzDj4Se"
   },
   "source": [
    "8. Select the observations for which the region is equal to 2. Assign the result to a variable sample_data2. How many observations are there in the dataframe sample_data2? [Hint: sma_data.region is equal to?]"
   ]
  },
  {
   "cell_type": "code",
   "execution_count": 27,
   "metadata": {
    "colab": {
     "base_uri": "https://localhost:8080/"
    },
    "id": "Zl_mpN2tj4tz",
    "outputId": "e1056088-8a09-4c14-bece-5aad14de9e35"
   },
   "outputs": [
    {
     "data": {
      "text/plain": [
       "(25, 10)"
      ]
     },
     "execution_count": 27,
     "metadata": {
      "tags": []
     },
     "output_type": "execute_result"
    }
   ],
   "source": [
    "sample_data2 = sma_data[sma_data['region'] == 2]\n",
    "sample_data2.shape\n",
    "# Therefore we conclude that there are 25 observations in the dataframe sample_data2"
   ]
  }
 ],
 "metadata": {
  "colab": {
   "collapsed_sections": [],
   "name": "NDC-Assignment-1.ipynb",
   "provenance": []
  },
  "kernelspec": {
   "display_name": "Python 3",
   "language": "python",
   "name": "python3"
  },
  "language_info": {
   "codemirror_mode": {
    "name": "ipython",
    "version": 3
   },
   "file_extension": ".py",
   "mimetype": "text/x-python",
   "name": "python",
   "nbconvert_exporter": "python",
   "pygments_lexer": "ipython3",
   "version": "3.9.1"
  }
 },
 "nbformat": 4,
 "nbformat_minor": 1
}
